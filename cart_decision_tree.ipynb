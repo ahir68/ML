{
  "nbformat": 4,
  "nbformat_minor": 0,
  "metadata": {
    "colab": {
      "provenance": []
    },
    "kernelspec": {
      "name": "python3",
      "display_name": "Python 3"
    },
    "language_info": {
      "name": "python"
    }
  },
  "cells": [
    {
      "cell_type": "markdown",
      "source": [
        "<h1>Decision Tree Algoritham Cart </h1>"
      ],
      "metadata": {
        "id": "ELzlI699EwGO"
      }
    },
    {
      "cell_type": "code",
      "execution_count": null,
      "metadata": {
        "colab": {
          "base_uri": "https://localhost:8080/"
        },
        "id": "9N0VPlqOeKip",
        "outputId": "b5e4865e-915e-4b23-c552-e6ccb8c1e5fa"
      },
      "outputs": [
        {
          "output_type": "stream",
          "name": "stdout",
          "text": [
            "Drive already mounted at /content/drive; to attempt to forcibly remount, call drive.mount(\"/content/drive\", force_remount=True).\n"
          ]
        }
      ],
      "source": [
        "  from google.colab import drive\n",
        "  drive.mount('/content/drive')"
      ]
    },
    {
      "cell_type": "code",
      "source": [
        "  import pandas as pd\n",
        "  df=pd.read_excel(\"/content/drive/MyDrive/Colab Notebooks/Lab 4 ML Dataset - ID3.xlsx\")\n",
        "  df.columns =df.iloc[1]\n",
        "  df =df.iloc[2:16]\n",
        "  answer =df['Answer']\n",
        "  #for testing\n",
        "  df1 =df.iloc[22:25]\n",
        "  df1.loc[22, 'Answer'] = 'no'\n",
        "  df1.loc[23, 'Answer'] = 'yes'\n",
        "  df1.loc[24, 'Answer'] = 'no'"
      ],
      "metadata": {
        "colab": {
          "base_uri": "https://localhost:8080/"
        },
        "id": "Ak8E9O9R3lI0",
        "outputId": "c85f62b6-a1ab-4b23-be5e-595c4743884b"
      },
      "execution_count": null,
      "outputs": [
        {
          "output_type": "stream",
          "name": "stderr",
          "text": [
            "<ipython-input-150-04f854200103>:8: SettingWithCopyWarning: \n",
            "A value is trying to be set on a copy of a slice from a DataFrame\n",
            "\n",
            "See the caveats in the documentation: https://pandas.pydata.org/pandas-docs/stable/user_guide/indexing.html#returning-a-view-versus-a-copy\n",
            "  df1.loc[22, 'Answer'] = 'no'\n"
          ]
        }
      ]
    },
    {
      "cell_type": "code",
      "source": [
        "  def for_pos_neg_of_table( Answer,positive,negative):\n",
        "    for i in Answer:\n",
        "      if i=='yes':\n",
        "        positive=positive+1\n",
        "      else :\n",
        "        negative=negative+1\n",
        "\n",
        "    return positive,negative\n",
        "\n",
        "  def gini_index(row,pos,neg):\n",
        "    sum=1-(pos/row)**2-(neg/row)**2\n",
        "    return sum\n"
      ],
      "metadata": {
        "id": "jviEFcnbeOp0"
      },
      "execution_count": null,
      "outputs": []
    },
    {
      "cell_type": "code",
      "source": [
        "  positive,negative =for_pos_neg_of_table(answer,0,0)"
      ],
      "metadata": {
        "id": "nVAPmoHrfUVk"
      },
      "execution_count": null,
      "outputs": []
    },
    {
      "cell_type": "code",
      "source": [
        "  #{'low', 'medium', 'high'}\n",
        "  from itertools import permutations\n",
        "  def entropy1( col,col_name,Answer,positive,negative,total_count,df4,dct,dct345):\n",
        "        listed =list(df4[col_name])\n",
        "        #print(col)\n",
        "        for set_val in col:\n",
        "          #print(set_val)\n",
        "          for i in range(len(listed)):\n",
        "                  if set_val==listed[i] and Answer[i]=='yes':\n",
        "                    positive=positive+1\n",
        "                  elif set_val==listed[i] and Answer[i]=='no':\n",
        "                    negative=negative+1\n",
        "          #print(positive,negative)\n",
        "          dct[set_val] = (positive, negative)\n",
        "          dct345[set_val]=(positive,negative)\n",
        "          positive =0\n",
        "          negative=0\n",
        "        return dct345\n",
        "  def remaining_element(column_set,unique_permutations_here,ind):\n",
        "    return next(item for item in column_set if item not in unique_permutations_here[ind])\n",
        "\n",
        "  def give_me_unique_permutations(column_set,size):\n",
        "    if (size-1) == 1:\n",
        "        original_permutations=(list(permutations(column_set,1 )))\n",
        "        sorted_permutations = [tuple(sorted(perm)) for perm in original_permutations]\n",
        "        #print(sorted_permutations)\n",
        "        unique_permutations = (list(set(sorted_permutations)) )\n",
        "        #print(unique_permutations)\n",
        "        return  unique_permutations\n",
        "    original_permutations=(list(permutations(column_set,size-1 )))\n",
        "    sorted_permutations = [tuple(sorted(perm)) for perm in original_permutations]\n",
        "    unique_permutations = list(set(sorted_permutations))\n",
        "    return unique_permutations"
      ],
      "metadata": {
        "id": "AMSc04eSho2M"
      },
      "execution_count": null,
      "outputs": []
    },
    {
      "cell_type": "code",
      "source": [
        "  def gini_calculation(pos_neg_dict,permutations,remaining_permutation,set_col,total_num_of_row,gini_calculation_dict_cal):\n",
        "    #print(\"LLLLLLLLLLLLLLLLLLLLLLLLLLLLLLLLLLLLLLLLLLLLLLLLLLLLLLLLLLLLLLL\")\n",
        "    total_positive_nagative=0\n",
        "    total_positive_yes=0\n",
        "    total_negative_no=0\n",
        "    for perm in permutations:\n",
        "      #print(\"permu :\",perm)\n",
        "      perm_positive=pos_neg_dict[perm][0]\n",
        "      perm_negative=pos_neg_dict[perm][1]\n",
        "      total_positive_yes=total_positive_yes+perm_positive\n",
        "      total_negative_no=total_negative_no+perm_negative\n",
        "      total_positive_nagative=total_positive_nagative+perm_positive+perm_negative\n",
        "    total_positive_nagative_remaining=0\n",
        "    perm_positive=pos_neg_dict[remaining_permutation][0]\n",
        "    perm_negative=pos_neg_dict[remaining_permutation][1]\n",
        "    total_positive_nagative_remaining=total_positive_nagative_remaining+perm_positive+perm_negative\n",
        "    #print(\"remaining permutation :\",total_positive_nagative_remaining)\n",
        "    #print(\"remaining permutation perm_positive :\",perm_positive)\n",
        "    #print(\"remaining permutation perm_negative :\",perm_negative)\n",
        "    #print(permutations,\"missing element\",remaining_permutation)\n",
        "    #print(\"total sum: \",total_positive_nagative)\n",
        "    #print(\"total yes :\",total_positive_yes)\n",
        "    #print(\"tota; neg :\",total_negative_no)\n",
        "    gini_sum=(total_positive_nagative/total_num_of_row)*gini_index(total_positive_nagative,total_positive_yes,total_negative_no)+(total_positive_nagative_remaining/total_num_of_row)*gini_index(total_positive_nagative_remaining,perm_positive,perm_negative)\n",
        "    #print(\"final gini sum is :\",gini_sum)\n",
        "    gini_calculation_dict_cal[permutations]=gini_sum\n",
        "    #print(gini_calculation_dict_cal)"
      ],
      "metadata": {
        "id": "HvPQoOqGaCmO"
      },
      "execution_count": null,
      "outputs": []
    },
    {
      "cell_type": "code",
      "source": [
        "  def calculate_pos_neg_each(df3,list_Answer,dict_my,gini_calculation_dict,answer_dct,total_num_of_row_1,gini_index_table_1):\n",
        "    #print(df3.columns)\n",
        "    #gini_calculation_dict={}\n",
        "    gini_list=[]\n",
        "    for each_col in df3.columns:\n",
        "      if each_col=='Answer':\n",
        "        continue\n",
        "      set_col=set(df3[each_col])\n",
        "      set_size =len(set_col)\n",
        "      #print(set_col)\n",
        "      each_dict ={}\n",
        "      particular_sets_pos_neg= entropy1(set_col,each_col,list_Answer,0,0,0,df3,dict_my,each_dict)\n",
        "      #print(particular_sets_pos_neg)\n",
        "      unique_permutations=give_me_unique_permutations(set_col,set_size)\n",
        "      length_of= len(unique_permutations)\n",
        "      #print(\"All permutation : \",unique_permutations)\n",
        "      #print(\"gini index created area :\")\n",
        "      for ind in range(length_of):\n",
        "        missing_element_in_set =remaining_element(set_col,unique_permutations,ind)\n",
        "        #print(\"unique_permutations : \",unique_permutations[ind])\n",
        "        gini_calculation(particular_sets_pos_neg,unique_permutations[ind],missing_element_in_set,set_col,total_num_of_row_1,gini_calculation_dict)\n",
        "      #print(\"for loop end\")\n",
        "    print(\"+++++++++++++++++++++++++++++++++++++++\")\n",
        "    result_dict = {key: value - gini_index_table_1 for key, value in gini_calculation_dict.items()}\n",
        "    min_value = min(result_dict.values())\n",
        "    #Find the keys with the minimum value\n",
        "    min_keys = [key for key, value in result_dict.items() if value == min_value]\n",
        "    #return min_keys,gini_sum\n",
        "    # Print the minimum keys\n",
        "    #print(\"Minimum Keys:\",min_keys)\n",
        "    #print(type(min_keys))\n",
        "    #print(min_keys[0][0])\n",
        "    # gini_index_of_all_columns=gini_calculation(particular_sets_pos_neg,unique_permutations)\n",
        "    #print(\"gini sjkhjkssdjlidjaod\",gini_calculation_dict)\n",
        "    if len(min_keys[0])>1:\n",
        "      target_values = [min_keys[0][0],min_keys[0][1]]\n",
        "    else :\n",
        "      target_values = [min_keys[0][0]]\n",
        "  # Initialize an empty list to store column names\n",
        "  # Iterate through columns and check for the presence of target values\n",
        "    for column in df.columns:\n",
        "        if df[column].isin(target_values).any():\n",
        "            columns_with_target_values=column\n",
        "            if columns_with_target_values=='Answer':\n",
        "              continue\n",
        "            answer_dct[columns_with_target_values]=min_keys\n",
        "    #print(columns_with_target_values)\n",
        "    answer_dct[columns_with_target_values]=min_keys\n",
        "    return answer_dct"
      ],
      "metadata": {
        "id": "Wim7Sw_nXtbj"
      },
      "execution_count": null,
      "outputs": []
    },
    {
      "cell_type": "markdown",
      "source": [
        "MAIN FUNCTION"
      ],
      "metadata": {
        "id": "KKacKtf0JrGj"
      }
    },
    {
      "cell_type": "code",
      "source": [
        "  def cart(df1):\n",
        "    positive,negative =for_pos_neg_of_table(answer,0,0)\n",
        "    #print(\"positive :\",positive,\"negative : \",negative)\n",
        "    total_num_of_col =len(df1.columns)\n",
        "    #print(\"total column :\",total_num_of_col)\n",
        "    total_num_of_row =0;\n",
        "    for i in df1.iterrows():\n",
        "     total_num_of_row=total_num_of_row+1\n",
        "    #print(\"total row : \",total_num_of_row)\n",
        "    gini_index_table =gini_index(total_num_of_row,positive,negative)\n",
        "    #print(gini_index_table)\n",
        "    my_dict={}\n",
        "    list_Answer =list(df1['Answer'])\n",
        "    hmm_dct={}\n",
        "    final_dct={}\n",
        "    d=calculate_pos_neg_each(df1,list_Answer,my_dict,hmm_dct,final_dct,total_num_of_row,gini_index_table)\n",
        "    print(\"maximum gini column :\",d)\n",
        "    young_midage_df = df1[df1[(list(d.keys())[0])].isin([x for item in d[list(d.keys())[0]] for x in item])]\n",
        "    remaining_df = df1[~df1[(list(d.keys())[0])].isin([x for item in d[list(d.keys())[0]] for x in item])]\n",
        "    if list(d.keys())[0] in young_midage_df.columns:\n",
        "        young_midage_df.drop((list(d.keys())[0]), axis=1, inplace=True)\n",
        "    #print(young_midage_df)\n",
        "    if (list(d.keys())[0]) in remaining_df.columns:\n",
        "      remaining_df.drop((list(d.keys())[0]), axis=1, inplace=True)\n",
        "    #print(remaining_df)\n",
        "    cart_list=[]\n",
        "    if not all(young_midage_df['Answer'] == 'yes') and not all(young_midage_df['Answer'] == 'no') :\n",
        "      cart_list.append(young_midage_df)\n",
        "    if not all(remaining_df['Answer'] == 'yes') and not all(remaining_df['Answer'] == 'no') :\n",
        "      cart_list.append(remaining_df)\n",
        "    return cart_list"
      ],
      "metadata": {
        "id": "azkyBoJSByq1"
      },
      "execution_count": null,
      "outputs": []
    },
    {
      "cell_type": "markdown",
      "source": [
        "GINI ALGO"
      ],
      "metadata": {
        "id": "IptuG34TyACl"
      }
    },
    {
      "cell_type": "code",
      "source": [
        "  def gini_Algo(df_1,level):\n",
        "    ls=cart(df_1)\n",
        "    ls1=[]\n",
        "    ls2=[]\n",
        "    ls3=[]\n",
        "    for i in ls:\n",
        "      if i.empty:\n",
        "        print(\"CART IS EMPTY:\")\n",
        "      else :\n",
        "            ls1=cart(i)\n",
        "    for j in ls1:\n",
        "      if j.empty:\n",
        "        print(\"cart is empty :\")\n",
        "      else :\n",
        "        ls2=cart(j)\n",
        "    for k in ls2:\n",
        "      if k.empty:\n",
        "        print(\"cart is empty :\")\n",
        "      else :\n",
        "        ls3=cart(k)\n",
        "    for m in ls3:\n",
        "      if m.empty:\n",
        "        print(\"cart is empty :\")\n",
        "\n",
        "      elif len(m.columns)==1:\n",
        "        print(\"Decision Tree Over\")"
      ],
      "metadata": {
        "id": "soZUEzeSDVKx"
      },
      "execution_count": null,
      "outputs": []
    },
    {
      "cell_type": "markdown",
      "source": [
        "Training Dataset DF"
      ],
      "metadata": {
        "id": "uERSF7yh45q-"
      }
    },
    {
      "cell_type": "code",
      "source": [
        "  gini_Algo(df,0)\n",
        "  #testing df1\n",
        "  #gini_Algo(df1,0)"
      ],
      "metadata": {
        "colab": {
          "base_uri": "https://localhost:8080/"
        },
        "id": "sLgKODmHDwoK",
        "outputId": "baefc710-f540-4096-d705-a752c993c4fc"
      },
      "execution_count": null,
      "outputs": [
        {
          "output_type": "stream",
          "name": "stdout",
          "text": [
            "+++++++++++++++++++++++++++++++++++++++\n",
            "maximum gini column : {'age': [('senior', 'young')]}\n",
            "+++++++++++++++++++++++++++++++++++++++\n",
            "maximum gini column : {'student': [('no',), ('yes',)], 'Answer': [('no',), ('yes',)]}\n",
            "+++++++++++++++++++++++++++++++++++++++\n",
            "maximum gini column : {'income': [('low', 'medium')]}\n",
            "+++++++++++++++++++++++++++++++++++++++\n",
            "maximum gini column : {'credit_rating': [('excellent',), ('fair',)]}\n",
            "Decision Tree Over\n"
          ]
        },
        {
          "output_type": "stream",
          "name": "stderr",
          "text": [
            "<ipython-input-156-a38ce9d6a41c>:21: SettingWithCopyWarning: \n",
            "A value is trying to be set on a copy of a slice from a DataFrame\n",
            "\n",
            "See the caveats in the documentation: https://pandas.pydata.org/pandas-docs/stable/user_guide/indexing.html#returning-a-view-versus-a-copy\n",
            "  young_midage_df.drop((list(d.keys())[0]), axis=1, inplace=True)\n",
            "<ipython-input-156-a38ce9d6a41c>:24: SettingWithCopyWarning: \n",
            "A value is trying to be set on a copy of a slice from a DataFrame\n",
            "\n",
            "See the caveats in the documentation: https://pandas.pydata.org/pandas-docs/stable/user_guide/indexing.html#returning-a-view-versus-a-copy\n",
            "  remaining_df.drop((list(d.keys())[0]), axis=1, inplace=True)\n",
            "<ipython-input-156-a38ce9d6a41c>:24: SettingWithCopyWarning: \n",
            "A value is trying to be set on a copy of a slice from a DataFrame\n",
            "\n",
            "See the caveats in the documentation: https://pandas.pydata.org/pandas-docs/stable/user_guide/indexing.html#returning-a-view-versus-a-copy\n",
            "  remaining_df.drop((list(d.keys())[0]), axis=1, inplace=True)\n",
            "<ipython-input-156-a38ce9d6a41c>:21: SettingWithCopyWarning: \n",
            "A value is trying to be set on a copy of a slice from a DataFrame\n",
            "\n",
            "See the caveats in the documentation: https://pandas.pydata.org/pandas-docs/stable/user_guide/indexing.html#returning-a-view-versus-a-copy\n",
            "  young_midage_df.drop((list(d.keys())[0]), axis=1, inplace=True)\n",
            "<ipython-input-156-a38ce9d6a41c>:24: SettingWithCopyWarning: \n",
            "A value is trying to be set on a copy of a slice from a DataFrame\n",
            "\n",
            "See the caveats in the documentation: https://pandas.pydata.org/pandas-docs/stable/user_guide/indexing.html#returning-a-view-versus-a-copy\n",
            "  remaining_df.drop((list(d.keys())[0]), axis=1, inplace=True)\n",
            "<ipython-input-156-a38ce9d6a41c>:24: SettingWithCopyWarning: \n",
            "A value is trying to be set on a copy of a slice from a DataFrame\n",
            "\n",
            "See the caveats in the documentation: https://pandas.pydata.org/pandas-docs/stable/user_guide/indexing.html#returning-a-view-versus-a-copy\n",
            "  remaining_df.drop((list(d.keys())[0]), axis=1, inplace=True)\n"
          ]
        }
      ]
    }
  ]
}