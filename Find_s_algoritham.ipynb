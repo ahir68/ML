{
  "nbformat": 4,
  "nbformat_minor": 0,
  "metadata": {
    "colab": {
      "provenance": []
    },
    "kernelspec": {
      "name": "python3",
      "display_name": "Python 3"
    },
    "language_info": {
      "name": "python"
    }
  },
  "cells": [
    {
      "cell_type": "markdown",
      "source": [
        "<h1>Find S Algorithm</h1>"
      ],
      "metadata": {
        "id": "D2zVD2wz1EfN"
      }
    },
    {
      "cell_type": "code",
      "execution_count": null,
      "metadata": {
        "id": "K9_WoSoCktNi"
      },
      "outputs": [],
      "source": [
        "import numpy as np\n",
        "import pandas as pd\n",
        "\n",
        "df =pd.read_excel(\"/content/drive/MyDrive/Colab Notebooks/Lab 3 ML Dataset - Find S.xlsx\")\n",
        "df.head()\n",
        "df.columns =df.iloc[1]\n"
      ]
    },
    {
      "cell_type": "code",
      "source": [
        "list2=list(df.columns)\n",
        "cntp=0\n",
        "cntn=0\n",
        "for col in list2:\n",
        "  if 'enjoysport'==col:\n",
        "    list3=list(df[col])\n",
        "\n",
        "    for val in list3:\n",
        "      if val=='yes':\n",
        "        cntp=cntp+1\n",
        "      else :\n",
        "        cntn=cntn+1;\n",
        "\n",
        "lis1=list(df['enjoysport'])"
      ],
      "metadata": {
        "id": "S_GBDghlxMDM"
      },
      "execution_count": null,
      "outputs": []
    },
    {
      "cell_type": "code",
      "source": [
        "df.columns =df.iloc[1]\n",
        "\n",
        "df3 =df.iloc[2:6]\n",
        "count=0\n",
        "for row in df3.iterrows():\n",
        "  count=count+1\n",
        "#print(count)\n",
        "listed = df3.iloc[0,:-1].tolist()\n",
        "\n",
        "col =len(df.columns)\n",
        "target =list(df3[\"enjoysport\"])\n",
        "length =len(target)\n",
        "specific_hypothesis =[0]*(col-1)\n",
        "specific_hypothesis\n",
        "\n",
        "\n",
        "#for i,val in enumerate(target):\n",
        "for i in target:\n",
        "   if i=='yes':\n",
        "     specific_hypothesis=listed.copy()\n",
        "     break\n",
        "\n",
        "for i,val in enumerate(target):\n",
        "   if val=='yes':\n",
        "    listed =df3.iloc[i,:-1].tolist()\n",
        "    for i,val in enumerate(listed):\n",
        "      if specific_hypothesis[i]!=val:\n",
        "           specific_hypothesis[i]='?'\n",
        "      else :\n",
        "         pass\n",
        "\n",
        "specific_hypothesis"
      ],
      "metadata": {
        "colab": {
          "base_uri": "https://localhost:8080/"
        },
        "id": "sB5aGlkNlqkY",
        "outputId": "124bed36-e6de-421d-dc51-f629abc38947"
      },
      "execution_count": null,
      "outputs": [
        {
          "output_type": "execute_result",
          "data": {
            "text/plain": [
              "['?', 'warm', '?', 'strong', '?', '?']"
            ]
          },
          "metadata": {},
          "execution_count": 6
        }
      ]
    },
    {
      "cell_type": "code",
      "source": [],
      "metadata": {
        "id": "Bnn5vaczo_Rn"
      },
      "execution_count": null,
      "outputs": []
    }
  ]
}