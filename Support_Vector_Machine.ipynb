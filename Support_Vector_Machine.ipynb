{
  "nbformat": 4,
  "nbformat_minor": 0,
  "metadata": {
    "colab": {
      "provenance": []
    },
    "kernelspec": {
      "name": "python3",
      "display_name": "Python 3"
    },
    "language_info": {
      "name": "python"
    }
  },
  "cells": [
    {
      "cell_type": "markdown",
      "source": [
        "<h1>Support Vector Machine</h1>"
      ],
      "metadata": {
        "id": "2VuQr8POre5S"
      }
    },
    {
      "cell_type": "code",
      "source": [
        "from google.colab import drive\n",
        "drive.mount('/content/drive')"
      ],
      "metadata": {
        "id": "8qwFPsceWDOf",
        "colab": {
          "base_uri": "https://localhost:8080/"
        },
        "outputId": "db7f2190-cb5b-4e9d-8838-6ed1931c6e52"
      },
      "execution_count": null,
      "outputs": [
        {
          "output_type": "stream",
          "name": "stdout",
          "text": [
            "Drive already mounted at /content/drive; to attempt to forcibly remount, call drive.mount(\"/content/drive\", force_remount=True).\n"
          ]
        }
      ]
    },
    {
      "cell_type": "code",
      "source": [
        "import numpy as np\n",
        "import pandas as pd\n",
        "import matplotlib.pyplot as plt\n",
        "\n",
        "df=pd.read_excel(\"/content/drive/MyDrive/Colab Notebooks/Lab 11 ML Dataset - SVM.xlsx\")\n",
        "df1=df"
      ],
      "metadata": {
        "id": "O2_wTzH4WZK_"
      },
      "execution_count": null,
      "outputs": []
    },
    {
      "cell_type": "code",
      "source": [
        "df.columns=df.iloc[1]\n",
        "df=df.iloc[:,1:]\n",
        "#\n",
        "df=df.iloc[2:10,:]\n",
        "print(df)"
      ],
      "metadata": {
        "id": "I_FThiZbW2l9",
        "colab": {
          "base_uri": "https://localhost:8080/"
        },
        "outputId": "44d298f1-b7c5-4862-cc54-8886d218bb08"
      },
      "execution_count": null,
      "outputs": [
        {
          "output_type": "stream",
          "name": "stdout",
          "text": [
            "1  X1  X2 Class\n",
            "2   3   1     1\n",
            "3   3  -1     1\n",
            "4   6   1     1\n",
            "5   6  -1     1\n",
            "6   1   0    -1\n",
            "7   0   1    -1\n",
            "8   0  -1    -1\n",
            "9  -1   0    -1\n"
          ]
        }
      ]
    },
    {
      "cell_type": "code",
      "source": [
        "\n",
        "df_plus=df[df['Class']==1]\n",
        "df_minus=df[df['Class']==-1]\n",
        "\n"
      ],
      "metadata": {
        "id": "yhs8-mgEX6Nt"
      },
      "execution_count": null,
      "outputs": []
    },
    {
      "cell_type": "code",
      "source": [
        "print(\"Scatter Plot:  \")\n",
        "plt.scatter(df_plus[\"X1\"], df_plus['X2'],marker='+' )\n",
        "plt.scatter(df_minus[\"X1\"], df_minus['X2'],marker='*' )\n",
        "plt.show()"
      ],
      "metadata": {
        "id": "JO4EuqUoZO2k",
        "colab": {
          "base_uri": "https://localhost:8080/",
          "height": 323
        },
        "outputId": "ceb63241-5283-4335-90ce-00e1821856e8"
      },
      "execution_count": null,
      "outputs": [
        {
          "output_type": "stream",
          "name": "stdout",
          "text": [
            "Scatter Plot:  \n"
          ]
        },
        {
          "output_type": "display_data",
          "data": {
            "text/plain": [
              "<Figure size 640x480 with 1 Axes>"
            ],
            "image/png": "[encoded data removed]"
          },
          "metadata": {}
        }
      ]
    },
    {
      "cell_type": "code",
      "source": [
        "#sn1=(1,0)\n",
        "#sp2=(3,1)\n",
        "#sp3=(3,-1)"
      ],
      "metadata": {
        "id": "TpwSRRmAd6ZD"
      },
      "execution_count": null,
      "outputs": []
    },
    {
      "cell_type": "code",
      "source": [
        "#a1*sn1.sn1+a2*sn1.sp2+a3*sn1.sp2=-1\n",
        "#a1*sp2.sn1+a2*sp2.sp1+a3*sp2.sp1=1\n",
        "#a1*sp3.sn1+a2*sp3.sp2+a3*sp3.sp3=1\n"
      ],
      "metadata": {
        "id": "EeV44_7-fecj"
      },
      "execution_count": null,
      "outputs": []
    },
    {
      "cell_type": "code",
      "source": [
        "import numpy as np\n",
        "\n",
        "# Define the vectors\n",
        "sn1 = np.array([1, 0, 1])\n",
        "sp2 = np.array([3, 1, 1])\n",
        "sp3 = np.array([3, -1, 1])\n",
        "#sn1 = np.array([6, 1, 1])\n",
        "#sp2 = np.array([6, -1, 1])\n",
        "#sp3 = np.array([2, 0, 1])\n",
        "# Define the dot products\n",
        "sn1_sn1 = np.dot(sn1, sn1)\n",
        "sn1_sp2 = np.dot(sn1, sp2)\n",
        "sn1_sp3 = np.dot(sn1, sp3)\n",
        "sp2_sn1 = np.dot(sp2, sn1)\n",
        "sp2_sp2 = np.dot(sp2, sp2)\n",
        "sp2_sp3 = np.dot(sp2, sp3)\n",
        "sp3_sn1 = np.dot(sp3, sn1)\n",
        "sp3_sp2 = np.dot(sp3, sp2)\n",
        "sp3_sp3=  np.dot(sp3,sp3)\n",
        "'''\n",
        "print(sn1_sn1)\n",
        "print(sn1_sp2)\n",
        "print(sn1_sp3)\n",
        "\n",
        "print(sp2_sn1)\n",
        "print(sp2_sp2)\n",
        "print(sp2_sp3)\n",
        "\n",
        "print(sp3_sn1)\n",
        "print(sp3_sp2)\n",
        "print(sp3_sp3)\n",
        "'''\n",
        "\n",
        "# Define the right-hand side of the equations\n",
        "rhs = np.array([-1, 1, 1])\n",
        "\n",
        "# Create the coefficient matrix\n",
        "A = np.array([[sn1_sn1, sn1_sp2, sn1_sp3],\n",
        "              [sp2_sn1, sp2_sp2, sp2_sp3],\n",
        "              [sp3_sn1, sp3_sp2, sp3_sp3]])\n",
        "\n",
        "# Solve the system of equations\n",
        "x = np.linalg.solve(A, rhs)\n",
        "\n",
        "# Extract the values of a1, a2, and a3\n",
        "a1, a2, a3 = x\n",
        "\n",
        "print(\"a1 =\", a1)\n",
        "print(\"a2 =\", a2)\n",
        "print(\"a3 =\", a3)\n"
      ],
      "metadata": {
        "id": "JCCV3ip4iBas",
        "colab": {
          "base_uri": "https://localhost:8080/"
        },
        "outputId": "a3e931a0-437e-4fd0-fa9b-ee1e2ef8eabb"
      },
      "execution_count": null,
      "outputs": [
        {
          "output_type": "stream",
          "name": "stdout",
          "text": [
            "a1 = -3.5\n",
            "a2 = 0.75\n",
            "a3 = 0.75\n"
          ]
        }
      ]
    },
    {
      "cell_type": "markdown",
      "source": [
        "#To Get Support Vector"
      ],
      "metadata": {
        "id": "4VCmJV7Aq7GJ"
      }
    },
    {
      "cell_type": "code",
      "source": [
        "resultant_vector = a1 * sn1 + a2 * sp2 + a3 * sp3\n",
        "print(\"Resultant Vector:\", resultant_vector)"
      ],
      "metadata": {
        "id": "80pjsqGEnAq8",
        "colab": {
          "base_uri": "https://localhost:8080/"
        },
        "outputId": "39e8f61a-065d-4979-e16f-748b1fc0134e"
      },
      "execution_count": null,
      "outputs": [
        {
          "output_type": "stream",
          "name": "stdout",
          "text": [
            "Resultant Vector: [ 1.  0. -2.]\n"
          ]
        }
      ]
    },
    {
      "cell_type": "markdown",
      "source": [
        "# for new data value (2,-2)"
      ],
      "metadata": {
        "id": "hc91WufPBUc7"
      }
    },
    {
      "cell_type": "code",
      "source": [
        "plt.scatter(df_plus[\"X1\"], df_plus['X2'],marker='+' )\n",
        "plt.scatter(df_minus[\"X1\"], df_minus['X2'],marker='*' )\n",
        "# for new data value\n",
        "plt.scatter(2,-2,marker='^' )\n",
        "plt.axvline(x=-resultant_vector[2]/resultant_vector[0],color='red',label='hyperplane')\n",
        "plt.show()"
      ],
      "metadata": {
        "id": "bJWa_kItnE6y",
        "colab": {
          "base_uri": "https://localhost:8080/",
          "height": 310
        },
        "outputId": "ffbfaa70-1533-44b7-c74c-7f84592e8538"
      },
      "execution_count": null,
      "outputs": [
        {
          "output_type": "display_data",
          "data": {
            "text/plain": [
              "<Figure size 640x480 with 1 Axes>"
            ],
            "image/png": "[encoded data removed]"
          },
          "metadata": {}
        }
      ]
    }
  ]
}