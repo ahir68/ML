{
  "nbformat": 4,
  "nbformat_minor": 0,
  "metadata": {
    "colab": {
      "provenance": []
    },
    "kernelspec": {
      "name": "python3",
      "display_name": "Python 3"
    },
    "language_info": {
      "name": "python"
    }
  },
  "cells": [
    {
      "cell_type": "markdown",
      "source": [
        "<h1>DECISION TREE ALGORITHAM C 4.5 </h1>\n"
      ],
      "metadata": {
        "id": "AvF7TdPOv7F2"
      }
    },
    {
      "cell_type": "code",
      "execution_count": null,
      "metadata": {
        "colab": {
          "base_uri": "https://localhost:8080/"
        },
        "id": "8dMB6cCv4dgf",
        "outputId": "6d1a6df3-d5c7-4222-ca75-e898db5a03f5"
      },
      "outputs": [
        {
          "output_type": "stream",
          "name": "stdout",
          "text": [
            "Drive already mounted at /content/drive; to attempt to forcibly remount, call drive.mount(\"/content/drive\", force_remount=True).\n"
          ]
        }
      ],
      "source": [
        "from google.colab import drive\n",
        "drive.mount('/content/drive')\n"
      ]
    },
    {
      "cell_type": "code",
      "source": [
        "import numpy as np\n",
        "import pandas as pd\n",
        "\n",
        "df=pd.read_excel(\"/content/drive/MyDrive/Colab Notebooks/Lab 4 ML Dataset - ID3.xlsx\")\n",
        "\n",
        "df2=df\n",
        "df.columns =df.iloc[1]\n",
        "#print(df)\n",
        "df1 =df.iloc[23:25]\n",
        "replacement_dict = {0: 'yes', 1: 'no'}\n",
        "\n",
        "df1.loc[23, 'Answer'] = 'yes'\n",
        "df1.loc[24, 'Answer'] = 'no'\n",
        "#for testing dataframe df1\n",
        "\n",
        "#for training dataframe df2\n",
        "df3 =df.iloc[2:16]"
      ],
      "metadata": {
        "id": "BjUKgc8I4kk6"
      },
      "execution_count": null,
      "outputs": []
    },
    {
      "cell_type": "code",
      "source": [
        "def entropy_split( col,col_name,Answer,positive,negative,total_count,df5,dct):\n",
        "         listed =list(df5[col_name])\n",
        "\n",
        "         for num in listed:\n",
        "            if num in dct:\n",
        "                dct[num] += 1\n",
        "            else:\n",
        "                dct[num] = 1\n",
        "               # dct[set_val]+=1\n",
        "\n",
        "         positive =0\n",
        "         negative=0\n",
        "         return dct\n",
        "\n",
        "def calculate_distinct_each_column(df4,list_Answer,dict_my):\n",
        "  #print(df3.columns)\n",
        "  for each_col in df4.columns:\n",
        "    if each_col=='Answer':\n",
        "      continue\n",
        "\n",
        "    set_col=set(df[each_col])\n",
        "    #print(set_col)\n",
        "    s= entropy_split(set_col,each_col,list_Answer,0,0,0,df4,dict_my)\n",
        "\n",
        "  return dict_my"
      ],
      "metadata": {
        "id": "Fgi4k1La9rpN"
      },
      "execution_count": null,
      "outputs": []
    },
    {
      "cell_type": "code",
      "source": [
        "\n",
        "def for_pos_neg_of_table( Answer,positive,negative):\n",
        "\n",
        "  for i in Answer:\n",
        "    if i=='yes':\n",
        "      positive=positive+1\n",
        "    else :\n",
        "      negative=negative+1\n",
        "\n",
        "  return positive,negative\n",
        "\n",
        "def info(row,pos,neg):\n",
        "  p =pos/row\n",
        "  q=neg/row\n",
        "  sum=0;\n",
        "  if p!=0: sum +=-p * np.log2(p)\n",
        "  if q!=0: sum+=- q * np.log2(q)\n",
        "\n",
        "  return sum\n",
        "\n",
        "#my_dict = {}\n",
        "\n",
        "def entropy1( col,col_name,Answer,positive,negative,total_count,df4,dct):\n",
        "      listed =list(df4[col_name])\n",
        "\n",
        "      #print(col)\n",
        "      for set_val in col:\n",
        "         #print(set_val)\n",
        "         for i in range(len(listed)):\n",
        "                if set_val==listed[i] and Answer[i]=='yes':\n",
        "                  positive=positive+1\n",
        "                elif set_val==listed[i] and Answer[i]=='no':\n",
        "                  negative=negative+1\n",
        "         #print(positive,negative)\n",
        "         dct[set_val] = (positive, negative)\n",
        "         positive =0\n",
        "         negative=0\n",
        "      return dct\n",
        "\n",
        "def calculate_pos_neg_each(df3,list_Answer,dict_my):\n",
        "  #print(df3.columns)\n",
        "  for each_col in df3.columns:\n",
        "    if each_col=='Answer':\n",
        "      continue\n",
        "\n",
        "    set_col=set(df3[each_col])\n",
        "    #print(set_col)\n",
        "    s= entropy1(set_col,each_col,list_Answer,0,0,0,df3,dict_my)\n",
        "\n",
        "  return dict_my\n",
        "\n",
        "\n",
        "#info_dict ={}\n",
        "def info_gain_column(df3,my_dict,total_num_of_row,info_dict):\n",
        "\n",
        "  for each_col in df3.columns:\n",
        "    if each_col=='Answer':\n",
        "      continue\n",
        "\n",
        "    set_col=set(df3[each_col])\n",
        "    #print(set_col)\n",
        "    n =len(set_col)\n",
        "    i=0\n",
        "    total=0\n",
        "  # for i in range(i,n):\n",
        "    p=0\n",
        "    for val in set_col:\n",
        "\n",
        "      pos=my_dict[val][0]\n",
        "      neg=my_dict[val][1]\n",
        "      row1=pos+neg\n",
        "      p +=row1/total_num_of_row*(info(row1,pos,neg))\n",
        "\n",
        "    info_dict[each_col]=p\n",
        "  return info_dict\n",
        "\n",
        "def give_the_node_frame(df3,max_key):\n",
        "  df = pd.DataFrame(df3)\n",
        "  l=[]\n",
        "  l2=[]\n",
        "  # Group the data by the 'age' column and store each group's DataFrame in a dictionary\n",
        "  grouped_data = {}\n",
        "  for age_group, group_data in df3.groupby(max_key):\n",
        "      # Remove the 'age' column if needed\n",
        "      group_data = group_data.drop(max_key, axis=1)\n",
        "      grouped_data[age_group] = group_data\n",
        "      l.append(age_group)\n",
        "  # Access the DataFrames for each age group\n",
        "  for i, val in enumerate(l):\n",
        "    #print(\"values is\")\n",
        "    #print(val)\n",
        "    l2.append(grouped_data[val])\n",
        "    #print(l2)\n",
        "  return l2\n",
        "\n",
        "def give_me_entropy(infog,dict_ration):\n",
        "   result_dict = {}\n",
        "\n",
        "# Subtract info_gain from each value and store in result_dict\n",
        "   for key, value in dict_ration.items():\n",
        "    result_dict[key] = infog - value\n",
        "   return result_dict"
      ],
      "metadata": {
        "id": "DbvtTvEJ5JuP"
      },
      "execution_count": null,
      "outputs": []
    },
    {
      "cell_type": "code",
      "source": [
        "def split_info_gain_column(df6,my_dict,total_num_of_row,info_dict):\n",
        "\n",
        "  for each_col in df6.columns:\n",
        "    if each_col=='Answer':\n",
        "      continue\n",
        "\n",
        "    set_col=set(df6[each_col])\n",
        "    #print(set_col)\n",
        "    n =len(set_col)\n",
        "    i=0\n",
        "    total=0\n",
        "  # for i in range(i,n):\n",
        "    p=0\n",
        "    for val in set_col:\n",
        "\n",
        "      pos=my_dict[val]\n",
        "      #neg=my_dict[val][1]\n",
        "      #row1=pos+neg\n",
        "      p +=-(pos/total_num_of_row*(np.log2(pos/total_num_of_row)))\n",
        "\n",
        "    info_dict[each_col]=p\n",
        "  return info_dict\n",
        "\n",
        "def calculate_ratios(split_gain, info_gain,ratio_dict1):\n",
        "    for key in info_gain:\n",
        "     if key in split_gain:\n",
        "        ratio = info_gain[key] / split_gain[key]\n",
        "        ratio_dict1[key] = ratio\n",
        "\n",
        "    return ratio_dict1\n"
      ],
      "metadata": {
        "id": "8NltQ1Pe-nJW"
      },
      "execution_count": null,
      "outputs": []
    },
    {
      "cell_type": "markdown",
      "source": [
        "GIVE THE MAXIMUM GAIN RATION NODE"
      ],
      "metadata": {
        "id": "z1XFJPjy58PW"
      }
    },
    {
      "cell_type": "code",
      "source": [
        "\n",
        "def give_the_node(df3):\n",
        "  total_num_of_col =len(df3.columns)\n",
        "  #print(total_num_of_col)\n",
        "\n",
        "  total_num_of_row =0;\n",
        "  for i in df3.iterrows():\n",
        "   total_num_of_row=total_num_of_row+1\n",
        "\n",
        "  #print(total_num_of_row)\n",
        "  my_dict = {}\n",
        "  list_Answer =list(df3['Answer'])\n",
        "  #print(list_Answer)\n",
        "  positive,negative=for_pos_neg_of_table(list_Answer,0,0)\n",
        "\n",
        "  info_gain =info(total_num_of_row,positive,negative)\n",
        "  #print(info_gain)\n",
        "  d=calculate_pos_neg_each(df3,list_Answer,my_dict)\n",
        "  #print(d)\n",
        "  info_dict1 ={}\n",
        "  E =info_gain_column(df3,d,total_num_of_row,info_dict1)\n",
        "  #print(E)\n",
        "\n",
        "  Gain_Column =give_me_entropy(info_gain,E)\n",
        "  #print(\"Gain of each Column :\",Gain_Column)\n",
        "\n",
        "  split_dict ={}\n",
        "  distinct_column_values=calculate_distinct_each_column(df3,list_Answer,split_dict)\n",
        "  #print(\"Every Column Distinct Values\",distinct_column_values)\n",
        "\n",
        "  info_dict2 ={}\n",
        "  split_gain =split_info_gain_column(df3,distinct_column_values,total_num_of_row,info_dict2)\n",
        "  #print(\"Splite Gain Of each Column :\",split_gain)\n",
        "\n",
        "  ratio_dict = {}\n",
        "  ratio_dict =calculate_ratios(split_gain, Gain_Column,ratio_dict)\n",
        "  #print(\"Gain Ration of each Column \",ratio_dict)\n",
        "  #print(\"\\n\")\n",
        "\n",
        "  max_key = max(ratio_dict, key=lambda k: ratio_dict[k])\n",
        "\n",
        "  #print(\"spliting with maximum gain ratio:\", max_key)\n",
        "\n",
        "  return max_key\n"
      ],
      "metadata": {
        "id": "EOT6b-zD5O5N"
      },
      "execution_count": null,
      "outputs": []
    },
    {
      "cell_type": "code",
      "source": [
        "from collections import defaultdict\n",
        "def give_the_chiled_node(node_frame):\n",
        "  next_level_dict = defaultdict(list)\n",
        "  for i, frame in enumerate(node_frame):\n",
        "    node = give_the_node(frame)\n",
        "    temp_list=give_the_node_frame(frame,node)\n",
        "    next_level_dict[node].append(temp_list)\n",
        "    #l4.append(temp_list)\n",
        "\n",
        "  #print(next_level_dict)\n",
        "\n",
        "  return next_level_dict\n"
      ],
      "metadata": {
        "id": "ARx6XhRC5SD_"
      },
      "execution_count": null,
      "outputs": []
    },
    {
      "cell_type": "markdown",
      "source": [
        "TO PRINT THE DATA NODE"
      ],
      "metadata": {
        "id": "ErwHGXSy53T2"
      }
    },
    {
      "cell_type": "code",
      "source": [
        "\n",
        "def print_Decision_Node(take_as_dict,level_by):\n",
        "    keys_list = list(take_as_dict.keys())\n",
        "    #print(keys_list)\n",
        "    for key_to_access in keys_list:\n",
        "      i = -1\n",
        "    # Assuming you have a list called 'chiled_node_at_next_level' and a key called 'key_to_access'\n",
        "    #key_to_access = 'age'\n",
        "      print(\"spliting node At level \",level_by,\"is :\",key_to_access)\n",
        "      #print(\"_______________________________________________________________________________\")\n",
        "    # Check if the key exists in the dictionary\n",
        "      if key_to_access in take_as_dict:\n",
        "          # Access the list of data frames associated with the key\n",
        "          data_frames_list = take_as_dict[key_to_access]\n",
        "\n",
        "          # Create an empty list to store values\n",
        "          values = []\n",
        "\n",
        "          # Iterate through the data frames and decrement i\n",
        "          while data_frames_list and i>-4:\n",
        "            for data_frame in data_frames_list:\n",
        "                #print(data_frame)\n",
        "                if abs(i) <= len(data_frame):\n",
        "                    #print(i)\n",
        "                    # Access the element at index -i in the data frame\n",
        "                    value = data_frame[i]\n",
        "                    data=pd.DataFrame(value)\n",
        "                    print(\"---------------------------------------------------------------\")\n",
        "                    print(data)\n",
        "                    print(\"---------------------------------------------------------------\")\n",
        "\n",
        "                    if all(data['Answer'] == 'yes') or all(data['Answer'] == 'no') :\n",
        "                      #print(\"Leaf Node yes \\n\",key_to_access)\n",
        "                      continue\n",
        "\n",
        "                    else:\n",
        "                      #print(\"Values in the 'Answer' column are mixed \\n\")\n",
        "                      pass\n",
        "\n",
        "                    values.append(data)\n",
        "\n",
        "                else: break\n",
        "                    # Handle the case when i goes out of bounds\n",
        "                    #print(f\"Index {i} is out of bounds for data frame with length {len(data_frame)}\")\n",
        "            #print(\"_____________________________________________________________________________________\")\n",
        "            i -= 1\n",
        "\n",
        "          # Print the values\n",
        "          #print(\"Values:\", values)\n",
        "\n",
        "      else:\n",
        "          print(f\"Key '{key_to_access}' not found in the dictionary.\")\n",
        "    print(\"+++++++++++++++++++++++++++++++++++++++++++++++++++++++++++++++++++++++++++++++++++++++++\")\n",
        "    return values"
      ],
      "metadata": {
        "id": "0KRqXSt5UCCi"
      },
      "execution_count": null,
      "outputs": []
    },
    {
      "cell_type": "markdown",
      "source": [
        "FUNCTION TO TRAIN THE DATA FRAME"
      ],
      "metadata": {
        "id": "7K52hj4l5qmk"
      }
    },
    {
      "cell_type": "code",
      "source": [
        "l =[df3]\n",
        "def Recursion_tree(dicision_list,level):\n",
        "    chiled_node_at_next_level = give_the_chiled_node(dicision_list)\n",
        "    if len(chiled_node_at_next_level) == 0:\n",
        "        return  # Terminate recursion\n",
        "    else:\n",
        "        #print(chiled_node_at_next_level)\n",
        "        chiled_node_list = print_Decision_Node(chiled_node_at_next_level,level)\n",
        "        Recursion_tree(chiled_node_list,level+1)  # Continue recursion\n",
        "\n",
        "Recursion_tree(l,0)"
      ],
      "metadata": {
        "id": "wwAMNdJFiyBv",
        "colab": {
          "base_uri": "https://localhost:8080/"
        },
        "outputId": "56e54bcb-d77b-44f4-a428-dd39de479585"
      },
      "execution_count": null,
      "outputs": [
        {
          "output_type": "stream",
          "name": "stdout",
          "text": [
            "spliting node At level  0 is : age\n",
            "---------------------------------------------------------------\n",
            "1   income student credit_rating Answer\n",
            "2     high      no          fair     no\n",
            "3     high      no     excellent     no\n",
            "9   medium      no          fair     no\n",
            "10     low     yes          fair    yes\n",
            "12  medium     yes     excellent    yes\n",
            "---------------------------------------------------------------\n",
            "---------------------------------------------------------------\n",
            "1   income student credit_rating Answer\n",
            "5   medium      no          fair    yes\n",
            "6      low     yes          fair    yes\n",
            "7      low     yes     excellent     no\n",
            "11  medium     yes          fair    yes\n",
            "15  medium      no     excellent     no\n",
            "---------------------------------------------------------------\n",
            "---------------------------------------------------------------\n",
            "1   income student credit_rating Answer\n",
            "4     high      no          fair    yes\n",
            "8      low     yes     excellent    yes\n",
            "13  medium      no     excellent    yes\n",
            "14    high     yes          fair    yes\n",
            "---------------------------------------------------------------\n",
            "+++++++++++++++++++++++++++++++++++++++++++++++++++++++++++++++++++++++++++++++++++++++++\n",
            "spliting node At level  1 is : student\n",
            "---------------------------------------------------------------\n",
            "1   income credit_rating Answer\n",
            "10     low          fair    yes\n",
            "12  medium     excellent    yes\n",
            "---------------------------------------------------------------\n",
            "---------------------------------------------------------------\n",
            "1  income credit_rating Answer\n",
            "2    high          fair     no\n",
            "3    high     excellent     no\n",
            "9  medium          fair     no\n",
            "---------------------------------------------------------------\n",
            "spliting node At level  1 is : credit_rating\n",
            "---------------------------------------------------------------\n",
            "1   income student Answer\n",
            "5   medium      no    yes\n",
            "6      low     yes    yes\n",
            "11  medium     yes    yes\n",
            "---------------------------------------------------------------\n",
            "---------------------------------------------------------------\n",
            "1   income student Answer\n",
            "7      low     yes     no\n",
            "15  medium      no     no\n",
            "---------------------------------------------------------------\n",
            "+++++++++++++++++++++++++++++++++++++++++++++++++++++++++++++++++++++++++++++++++++++++++\n"
          ]
        }
      ]
    },
    {
      "cell_type": "markdown",
      "source": [
        "FUNCTION TO TEST THE DATAFRAME"
      ],
      "metadata": {
        "id": "yx19Jb675wpD"
      }
    },
    {
      "cell_type": "code",
      "source": [
        "ls =[df1]\n",
        "def Recursion_tree(dicision_list,level):\n",
        "    chiled_node_at_next_level = give_the_chiled_node(dicision_list)\n",
        "    if len(chiled_node_at_next_level) == 0:\n",
        "        return  # Terminate recursion\n",
        "    else:\n",
        "        #print(chiled_node_at_next_level)\n",
        "        chiled_node_list = print_Decision_Node(chiled_node_at_next_level,level)\n",
        "        Recursion_tree(chiled_node_list,level+1)  # Continue recursion\n",
        "\n",
        "\n",
        "\n",
        "Recursion_tree(ls,0)"
      ],
      "metadata": {
        "colab": {
          "base_uri": "https://localhost:8080/"
        },
        "id": "TqQKr10c5jyI",
        "outputId": "d893c6cd-670c-4dc1-ceec-93b6f833b186"
      },
      "execution_count": null,
      "outputs": [
        {
          "output_type": "stream",
          "name": "stdout",
          "text": [
            "spliting node At level  0 is : age\n",
            "---------------------------------------------------------------\n",
            "1  income student credit_rating Answer\n",
            "23  high      yes     excellent    yes\n",
            "---------------------------------------------------------------\n",
            "---------------------------------------------------------------\n",
            "1  income student credit_rating Answer\n",
            "24    low      no     excellent     no\n",
            "---------------------------------------------------------------\n",
            "+++++++++++++++++++++++++++++++++++++++++++++++++++++++++++++++++++++++++++++++++++++++++\n"
          ]
        },
        {
          "output_type": "stream",
          "name": "stderr",
          "text": [
            "<ipython-input-112-0ce5a47a81cf>:27: RuntimeWarning: invalid value encountered in double_scalars\n",
            "  ratio = info_gain[key] / split_gain[key]\n"
          ]
        }
      ]
    }
  ]
}