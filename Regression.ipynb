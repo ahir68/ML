{
  "nbformat": 4,
  "nbformat_minor": 0,
  "metadata": {
    "colab": {
      "provenance": []
    },
    "kernelspec": {
      "name": "python3",
      "display_name": "Python 3"
    },
    "language_info": {
      "name": "python"
    }
  },
  "cells": [
    {
      "cell_type": "code",
      "execution_count": null,
      "metadata": {
        "id": "GlsxAsso3I28"
      },
      "outputs": [],
      "source": [
        "import pandas as pd\n",
        "import matplotlib.pyplot as plt\n",
        "import numpy as np\n",
        "df=pd.read_excel(\"/content/drive/MyDrive/Colab Notebooks/Lab 2 ML Dataset.xlsx\")"
      ]
    },
    {
      "cell_type": "code",
      "source": [
        "x=list(df['Dataset 1'][11:27])\n",
        "y=list(df['Unnamed: 1'][11:27])"
      ],
      "metadata": {
        "id": "w3eiCBTd3xvI"
      },
      "execution_count": null,
      "outputs": []
    },
    {
      "cell_type": "markdown",
      "source": [
        "# Calculating Coefficients B1, B0 of (y=B0+B1x)\n"
      ],
      "metadata": {
        "id": "Ji5bvS7L344z"
      }
    },
    {
      "cell_type": "code",
      "source": [
        "mean_x=np.mean(x)\n",
        "mean_y=np.mean(y)\n",
        "\n",
        "def Coefficients(x,y):\n",
        "  numerator=0\n",
        "  denominator=0\n",
        "  for i in range(len(x)):\n",
        "    numerator=numerator+(x[i]-mean_x)*(y[i]-mean_y)\n",
        "    denominator=denominator+(x[i]-mean_x)**2\n",
        "    B1=numerator/denominator\n",
        "    B0=mean_y-B1*mean_x\n",
        "  return B1, B0\n",
        "\n",
        "B1,B0=Coefficients(x,y)\n",
        "\n",
        "print(B1,B0)\n"
      ],
      "metadata": {
        "colab": {
          "base_uri": "https://localhost:8080/"
        },
        "id": "DLAjS3Rl374Z",
        "outputId": "b2c6b895-c557-4aea-f777-ad8ee4042be4"
      },
      "execution_count": null,
      "outputs": [
        {
          "output_type": "stream",
          "name": "stdout",
          "text": [
            "0.5 0.09999999999999432\n"
          ]
        }
      ]
    },
    {
      "cell_type": "markdown",
      "source": [
        "# Calculating Y_predicted\n"
      ],
      "metadata": {
        "id": "hG_Khx4J4CXq"
      }
    },
    {
      "cell_type": "code",
      "source": [
        "def Predicted_Y(x):\n",
        "  Y_predicted=[]\n",
        "  for  i in range(len(x)):\n",
        "    Y_predicted.append(B0+B1*x[i])\n",
        "  return Y_predicted\n",
        "\n",
        "\n",
        "Y_predicted=Predicted_Y(x)\n",
        "print(\"Y_predicted is :\",Y_predicted)\n",
        "\n",
        "\n",
        "\n",
        "\n",
        "\n",
        "\n",
        "\n",
        "\n",
        "\n",
        "\n",
        "\n",
        "\n",
        "\n",
        "\n",
        "\n",
        "\n",
        "\n",
        "\n",
        "\n"
      ],
      "metadata": {
        "colab": {
          "base_uri": "https://localhost:8080/"
        },
        "id": "aWtDLHV14FDz",
        "outputId": "37578e19-3b09-48d7-946f-27e224427b2c"
      },
      "execution_count": null,
      "outputs": [
        {
          "output_type": "stream",
          "name": "stdout",
          "text": [
            "Y_predicted is : [50.099999999999994, 55.099999999999994, 60.099999999999994, 65.1, 70.1, 75.1, 80.1, 85.1, 90.1, 95.1, 100.1, 105.1, 110.1, 115.1, 120.1, 125.1]\n"
          ]
        }
      ]
    },
    {
      "cell_type": "markdown",
      "source": [
        "# Comparing Both the graphs in the same plot"
      ],
      "metadata": {
        "id": "NRziWwoM4MSK"
      }
    },
    {
      "cell_type": "code",
      "source": [
        "plt.scatter(x,y)\n",
        "plt.plot(x,Y_predicted)"
      ],
      "metadata": {
        "colab": {
          "base_uri": "https://localhost:8080/",
          "height": 447
        },
        "id": "rQ0c1Woj4Shj",
        "outputId": "4f7c7ba6-ec36-4c91-e55b-fec70e276caa"
      },
      "execution_count": null,
      "outputs": [
        {
          "output_type": "execute_result",
          "data": {
            "text/plain": [
              "[<matplotlib.lines.Line2D at 0x7f68fb3d0fa0>]"
            ]
          },
          "metadata": {},
          "execution_count": 14
        },
        {
          "output_type": "display_data",
          "data": {
            "text/plain": [
              "<Figure size 640x480 with 1 Axes>"
            ],
            "image/png": "[encoded data removed]"
          },
          "metadata": {}
        }
      ]
    },
    {
      "cell_type": "markdown",
      "source": [
        "# Calculating RMSE\n"
      ],
      "metadata": {
        "id": "3Mnf1u0L4WyZ"
      }
    },
    {
      "cell_type": "code",
      "source": [
        "#RMSE\n",
        "def Rmse(y,Y_predicted):\n",
        "  sum=0\n",
        "  for i in range(len(y)):\n",
        "    sum=sum+(Y_predicted[i]-y[i])**2\n",
        "  MSE=sum/len(y)\n",
        "  RMSE=MSE**0.5\n",
        "  return RMSE\n",
        "\n",
        "RMSE=Rmse(y,Y_predicted)\n",
        "print(RMSE)"
      ],
      "metadata": {
        "colab": {
          "base_uri": "https://localhost:8080/"
        },
        "id": "goyVtAu-4cIA",
        "outputId": "55f79eeb-b265-42e7-ac02-7dd0b3a47d38"
      },
      "execution_count": null,
      "outputs": [
        {
          "output_type": "stream",
          "name": "stdout",
          "text": [
            "3.076740298213702e-15\n"
          ]
        }
      ]
    }
  ]
}